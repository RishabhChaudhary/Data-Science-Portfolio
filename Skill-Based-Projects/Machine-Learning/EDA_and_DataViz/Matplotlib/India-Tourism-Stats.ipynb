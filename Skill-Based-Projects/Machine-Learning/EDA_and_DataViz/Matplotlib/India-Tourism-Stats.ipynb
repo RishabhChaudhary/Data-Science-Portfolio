{
 "cells": [
  {
   "cell_type": "markdown",
   "metadata": {},
   "source": [
    "<img width=1200 height=400    src=\"./Indian_ancient_tourism_2_cover.png\"/>"
   ]
  },
  {
   "cell_type": "markdown",
   "metadata": {},
   "source": []
  },
  {
   "cell_type": "code",
   "execution_count": null,
   "metadata": {},
   "outputs": [],
   "source": []
  },
  {
   "cell_type": "code",
   "execution_count": 3,
   "metadata": {},
   "outputs": [],
   "source": [
    "import pandas as pd\n",
    "import numpy as np\n",
    "import requests"
   ]
  },
  {
   "cell_type": "code",
   "execution_count": 2,
   "metadata": {},
   "outputs": [
    {
     "data": {
      "text/html": [
       "<div>\n",
       "<style scoped>\n",
       "    .dataframe tbody tr th:only-of-type {\n",
       "        vertical-align: middle;\n",
       "    }\n",
       "\n",
       "    .dataframe tbody tr th {\n",
       "        vertical-align: top;\n",
       "    }\n",
       "\n",
       "    .dataframe thead th {\n",
       "        text-align: right;\n",
       "    }\n",
       "</style>\n",
       "<table border=\"1\" class=\"dataframe\">\n",
       "  <thead>\n",
       "    <tr style=\"text-align: right;\">\n",
       "      <th></th>\n",
       "      <th>S. No.</th>\n",
       "      <th>States/UTs *</th>\n",
       "      <th>Domestic -2019</th>\n",
       "      <th>Foreign - 2019</th>\n",
       "      <th>Domestic -2020</th>\n",
       "      <th>Foreign - 2020</th>\n",
       "      <th>Growth rate - DTV  2020/19</th>\n",
       "      <th>Growth rate - FTV 2020/19</th>\n",
       "    </tr>\n",
       "  </thead>\n",
       "  <tbody>\n",
       "    <tr>\n",
       "      <th>0</th>\n",
       "      <td>1</td>\n",
       "      <td>A&amp;N Island</td>\n",
       "      <td>505398.0</td>\n",
       "      <td>16206.0</td>\n",
       "      <td>191207.0</td>\n",
       "      <td>5412.0</td>\n",
       "      <td>-62.17</td>\n",
       "      <td>-66.6</td>\n",
       "    </tr>\n",
       "    <tr>\n",
       "      <th>1</th>\n",
       "      <td>2</td>\n",
       "      <td>Andhra Pradesh</td>\n",
       "      <td>237051508.0</td>\n",
       "      <td>280356.0</td>\n",
       "      <td>70828590.0</td>\n",
       "      <td>67591.0</td>\n",
       "      <td>-70.12</td>\n",
       "      <td>-75.89</td>\n",
       "    </tr>\n",
       "    <tr>\n",
       "      <th>2</th>\n",
       "      <td>3</td>\n",
       "      <td>Arunachal Pradesh</td>\n",
       "      <td>555639.0</td>\n",
       "      <td>7825.0</td>\n",
       "      <td>42871.0</td>\n",
       "      <td>961.0</td>\n",
       "      <td>-92.28</td>\n",
       "      <td>-87.72</td>\n",
       "    </tr>\n",
       "    <tr>\n",
       "      <th>3</th>\n",
       "      <td>4</td>\n",
       "      <td>Assam</td>\n",
       "      <td>5447805.0</td>\n",
       "      <td>26878.0</td>\n",
       "      <td>1266898.0</td>\n",
       "      <td>7285.0</td>\n",
       "      <td>-76.74</td>\n",
       "      <td>-72.9</td>\n",
       "    </tr>\n",
       "    <tr>\n",
       "      <th>4</th>\n",
       "      <td>5</td>\n",
       "      <td>Bihar</td>\n",
       "      <td>33990038.0</td>\n",
       "      <td>1093141.0</td>\n",
       "      <td>5638024.0</td>\n",
       "      <td>308080.0</td>\n",
       "      <td>-83.41</td>\n",
       "      <td>-71.82</td>\n",
       "    </tr>\n",
       "  </tbody>\n",
       "</table>\n",
       "</div>"
      ],
      "text/plain": [
       "  S. No.        States/UTs *  Domestic -2019  Foreign - 2019  Domestic -2020  \\\n",
       "0      1         A&N Island         505398.0         16206.0        191207.0   \n",
       "1      2    Andhra Pradesh       237051508.0        280356.0      70828590.0   \n",
       "2      3  Arunachal Pradesh         555639.0          7825.0         42871.0   \n",
       "3      4              Assam        5447805.0         26878.0       1266898.0   \n",
       "4      5             Bihar        33990038.0       1093141.0       5638024.0   \n",
       "\n",
       "   Foreign - 2020 Growth rate - DTV  2020/19 Growth rate - FTV 2020/19  \n",
       "0          5412.0                     -62.17                     -66.6  \n",
       "1         67591.0                     -70.12                    -75.89  \n",
       "2           961.0                     -92.28                    -87.72  \n",
       "3          7285.0                     -76.74                     -72.9  \n",
       "4        308080.0                     -83.41                    -71.82  "
      ]
     },
     "execution_count": 2,
     "metadata": {},
     "output_type": "execute_result"
    }
   ],
   "source": [
    "df = pd.read_csv('./India-Tourism-Statistics-2021-Table-5.1.2_0.csv')\n",
    "df.head()"
   ]
  },
  {
   "cell_type": "code",
   "execution_count": 36,
   "metadata": {},
   "outputs": [],
   "source": [
    "API_KEY = \"579b464db66ec23bdd0000014c17be1d99ef414b64a2fe9c36a2685f\"\n",
    "endpoint = \"https://api.data.gov.in/resource/6911b243-d924-404d-a587-7717bd7c7eb9/\"\n",
    "\n",
    "\n",
    "params = {\"api-key\": API_KEY, format: \"csv\"}\n",
    "\n",
    "headers = {\n",
    "    \"accept\": \"text/csv\",\n",
    "}"
   ]
  },
  {
   "cell_type": "code",
   "execution_count": 34,
   "metadata": {},
   "outputs": [],
   "source": [
    "response = requests.get(\"https://api.data.gov.in/resource/6911b243-d924-404d-a587-7717bd7c7eb9?api-key=579b464db66ec23bdd0000014c17be1d99ef414b64a2fe9c36a2685f&format=json\")"
   ]
  },
  {
   "cell_type": "code",
   "execution_count": 37,
   "metadata": {},
   "outputs": [
    {
     "data": {
      "text/plain": [
       "<Response [404]>"
      ]
     },
     "execution_count": 37,
     "metadata": {},
     "output_type": "execute_result"
    }
   ],
   "source": [
    "response = requests.get(endpoint, params=params, headers=headers)\n",
    "response"
   ]
  },
  {
   "cell_type": "code",
   "execution_count": 39,
   "metadata": {},
   "outputs": [
    {
     "data": {
      "text/plain": [
       "{}"
      ]
     },
     "execution_count": 39,
     "metadata": {},
     "output_type": "execute_result"
    }
   ],
   "source": [
    "response.links"
   ]
  },
  {
   "cell_type": "code",
   "execution_count": null,
   "metadata": {},
   "outputs": [],
   "source": []
  }
 ],
 "metadata": {
  "kernelspec": {
   "display_name": "base",
   "language": "python",
   "name": "python3"
  },
  "language_info": {
   "codemirror_mode": {
    "name": "ipython",
    "version": 3
   },
   "file_extension": ".py",
   "mimetype": "text/x-python",
   "name": "python",
   "nbconvert_exporter": "python",
   "pygments_lexer": "ipython3",
   "version": "3.9.13"
  },
  "orig_nbformat": 4
 },
 "nbformat": 4,
 "nbformat_minor": 2
}
